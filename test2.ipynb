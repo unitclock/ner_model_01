{
 "cells": [
  {
   "cell_type": "code",
   "execution_count": 16,
   "metadata": {},
   "outputs": [
    {
     "name": "stdout",
     "output_type": "stream",
     "text": [
      "<class 'torch.Tensor'> tensor([[ 101, 5529, 3236, 2523, 1599, 3614, 1391, 7649,  102],\n",
      "        [ 101, 3330, 3209,  679, 1599, 3614, 2802, 4413,  102]])\n",
      "<class 'torch.Tensor'> tensor([[0, 0, 0, 0, 0, 0, 0, 0, 0],\n",
      "        [0, 0, 0, 0, 0, 0, 0, 0, 0]])\n",
      "<class 'torch.Tensor'> tensor([[1, 1, 1, 1, 1, 1, 1, 1, 1],\n",
      "        [1, 1, 1, 1, 1, 1, 1, 1, 1]])\n"
     ]
    }
   ],
   "source": [
    "from transformers import BertModel\n",
    "\n",
    "model = BertModel.from_pretrained(\"./premodels/bert-base-chinese/\")\n",
    "\n",
    "from model import NerModel\n",
    "from transformers import BertTokenizer,BertModel\n",
    "import torch\n",
    "if __name__ == \"__main__\":\n",
    "    tokenizer = BertTokenizer.from_pretrained(\"./premodels/bert-base-chinese/\")\n",
    "    t = tokenizer(\n",
    "        [\"胡晓很喜欢吃饭\",\"李明不喜欢打球\"],\n",
    "        return_tensors=\"pt\")\n",
    "    labels = [\n",
    "        [-100,0,0,1,1,1,0,0,-100],\n",
    "        [-100,0,0,1,1,1,0,0,-100]\n",
    "    ]\n",
    "    labels = torch.Tensor(labels)\n",
    "    input_ids = t[\"input_ids\"]\n",
    "    print(type(input_ids),input_ids)\n",
    "    token_type_ids = t[\"token_type_ids\"]\n",
    "    print(type(token_type_ids),token_type_ids)\n",
    "    attention_mask = t[\"attention_mask\"]\n",
    "    print(type(attention_mask),attention_mask)\n",
    "    total_loss =0\n"
   ]
  },
  {
   "cell_type": "code",
   "execution_count": 17,
   "metadata": {},
   "outputs": [],
   "source": [
    "test = model(input_ids,attention_mask)"
   ]
  },
  {
   "cell_type": "code",
   "execution_count": 18,
   "metadata": {},
   "outputs": [
    {
     "data": {
      "text/plain": [
       "2"
      ]
     },
     "execution_count": 18,
     "metadata": {},
     "output_type": "execute_result"
    }
   ],
   "source": [
    "len(test)"
   ]
  },
  {
   "cell_type": "code",
   "execution_count": 19,
   "metadata": {},
   "outputs": [
    {
     "name": "stdout",
     "output_type": "stream",
     "text": [
      "torch.Size([2, 9, 768])\n",
      "torch.Size([2, 768])\n"
     ]
    }
   ],
   "source": [
    "print(test[0].shape)\n",
    "print(test[1].shape)"
   ]
  },
  {
   "cell_type": "code",
   "execution_count": 1,
   "metadata": {},
   "outputs": [],
   "source": [
    "from train import handle_raw_data"
   ]
  },
  {
   "cell_type": "code",
   "execution_count": 2,
   "metadata": {},
   "outputs": [
    {
     "name": "stderr",
     "output_type": "stream",
     "text": [
      "100%|██████████| 15000/15000 [00:32<00:00, 461.79it/s]\n"
     ]
    }
   ],
   "source": [
    "pd = handle_raw_data(raw_path=\"./data/train.json\",csv_path=\"./data/train.csv\")"
   ]
  },
  {
   "cell_type": "code",
   "execution_count": 3,
   "metadata": {},
   "outputs": [],
   "source": [
    "_3_data = pd.loc[14999,'W']"
   ]
  },
  {
   "cell_type": "code",
   "execution_count": 4,
   "metadata": {},
   "outputs": [
    {
     "name": "stdout",
     "output_type": "stream",
     "text": [
      "对严重呼吸困难、常规治疗无效、尤其是气管切开后不能拔管者，可采用大血管固定、气管悬吊术、气囊扩张金属支架等方法。 <class 'str'>\n"
     ]
    }
   ],
   "source": [
    "print(_3_data,type(_3_data))"
   ]
  },
  {
   "cell_type": "code",
   "execution_count": 5,
   "metadata": {},
   "outputs": [],
   "source": [
    "L = list(\"可以，很好\")"
   ]
  },
  {
   "cell_type": "code",
   "execution_count": 7,
   "metadata": {},
   "outputs": [
    {
     "name": "stdout",
     "output_type": "stream",
     "text": [
      "##\n"
     ]
    }
   ],
   "source": [
    "re = \"good##\"\n",
    "print(re[-2:])"
   ]
  }
 ],
 "metadata": {
  "kernelspec": {
   "display_name": "bert-ner",
   "language": "python",
   "name": "python3"
  },
  "language_info": {
   "codemirror_mode": {
    "name": "ipython",
    "version": 3
   },
   "file_extension": ".py",
   "mimetype": "text/x-python",
   "name": "python",
   "nbconvert_exporter": "python",
   "pygments_lexer": "ipython3",
   "version": "3.8.0"
  },
  "orig_nbformat": 4
 },
 "nbformat": 4,
 "nbformat_minor": 2
}
