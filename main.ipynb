{
 "cells": [
  {
   "cell_type": "code",
   "execution_count": 1,
   "metadata": {},
   "outputs": [],
   "source": [
    "import json\n",
    "from tqdm import tqdm\n",
    "import pandas as pd\n",
    "\n",
    "unique_labels = [\n",
    "    \"dis\",\n",
    "    \"sym\",\n",
    "    \"pro\",\n",
    "    \"equ\",\n",
    "    \"dru\",\n",
    "    \"ite\",\n",
    "    \"bod\",\n",
    "    \"dep\",\n",
    "    \"mic\",\n",
    "]\n",
    "\n",
    "bio_unique_labels = []\n",
    "bio_unique_labels.extend([ \"B-\"+l for l in unique_labels])\n",
    "bio_unique_labels.extend([ \"I-\"+l for l in unique_labels])\n",
    "bio_unique_labels.extend([ \"O-\"+l for l in unique_labels])\n",
    "bio_unique_labels.extend([ \"E-\"+l for l in unique_labels])\n",
    "bio_unique_labels.extend([ \"S-\"+l for l in unique_labels])\n",
    "bio_unique_labels.append(\"O\")\n",
    "\n",
    "labels_to_ids = {k: v for v, k in enumerate(sorted(bio_unique_labels))}\n",
    "ids_to_labels = {v: k for v, k in enumerate(sorted(bio_unique_labels))}\n",
    "\n",
    "def handle_raw_data(raw_path:str,csv_path:str):\n",
    "    pre_pd = pd.DataFrame(columns=[\"W\",\"B\"])\n",
    "    with open(raw_path,\"r\") as file:\n",
    "        raw_data = json.load(file)\n",
    "        raw_data_bar = tqdm(raw_data)\n",
    "        for r in raw_data_bar:\n",
    "            words = r[\"text\"]\n",
    "            if len(r[\"text\"]) > 512:\n",
    "                words = words[0:512]\n",
    "            bio = [\"O\"]*len(r[\"text\"])\n",
    "            for e in r[\"entities\"]:\n",
    "                e_type = e[\"type\"]\n",
    "                e_start =int(e[\"start_idx\"])\n",
    "                e_end = int(e[\"end_idx\"])\n",
    "                if e_end >512:\n",
    "                    continue\n",
    "                if e_end - e_start == 1 :\n",
    "                    bio[e_start] = \"S-\"+e_type\n",
    "                elif e_end- e_start == 2:\n",
    "                    bio[e_start] = \"B-\"+e_type\n",
    "                    bio[e_end-1]=\"E-\"+e_type\n",
    "                elif e_end - e_start >= 3:\n",
    "                    bio[e_start] = \"B-\"+e_type\n",
    "                    for i in range(e_start+1,e_end-1):\n",
    "                        bio[i]=\"I-\"+e_type\n",
    "                    bio[e_end-1]=\"E-\"+e_type\n",
    "                else:\n",
    "                    print(\"error\")                  \n",
    "            pre_pd.loc[len(pre_pd)] = {\"W\":words,\"B\":bio}\n",
    "    pre_pd.to_csv(csv_path)\n",
    "    return pre_pd\n",
    "                            \n"
   ]
  },
  {
   "cell_type": "code",
   "execution_count": 3,
   "metadata": {},
   "outputs": [
    {
     "name": "stdout",
     "output_type": "stream",
     "text": [
      "['dis', 'sym', 'pro', 'equ', 'dru', 'ite', 'bod', 'dep', 'mic']\n"
     ]
    }
   ],
   "source": [
    "print(bio_unique_labels)"
   ]
  },
  {
   "cell_type": "code",
   "execution_count": null,
   "metadata": {},
   "outputs": [],
   "source": [
    "\n",
    "train_pd = handle_raw_data(\"./data/train.json\",\"data.csv\")\n"
   ]
  },
  {
   "cell_type": "code",
   "execution_count": null,
   "metadata": {},
   "outputs": [],
   "source": [
    "from transformers import BertModel, BertTokenizer ,BertTokenizerFast\n",
    "\n",
    "bert = BertModel.from_pretrained(\"chinese-roberta-wwm-ext\")\n",
    "# tokenizer = BertTokenizer.from_pretrained(\"bert-base-chinese\")\n",
    "tokenizer =BertTokenizerFast.from_pretrained('chinese-roberta-wwm-ext')\n",
    "\n",
    "test_sentence = train_pd[\"W\"].to_list()\n",
    "print(test_sentence[33])\n",
    "text_tokenized = tokenizer(\n",
    "    test_sentence,\n",
    "    padding='max_length',\n",
    "    max_length=512,\n",
    "    truncation=True,\n",
    "    return_tensors=\"pt\"\n",
    "    )\n",
    "print(text_tokenized)\n"
   ]
  },
  {
   "cell_type": "code",
   "execution_count": null,
   "metadata": {},
   "outputs": [],
   "source": [
    "pytokenizer = BertTokenizer.from_pretrained(\"bert-base-chinese\")\n",
    "input_ids = text_tokenized.input_ids[0]\n",
    "print(pytokenizer.decode(input_ids))\n",
    "print(len(input_ids))\n"
   ]
  },
  {
   "cell_type": "code",
   "execution_count": null,
   "metadata": {},
   "outputs": [],
   "source": [
    "\n",
    "print(pytokenizer.convert_ids_to_tokens(text_tokenized[\"input_ids\"][0]))\n",
    "# print(word_ids)\n"
   ]
  },
  {
   "cell_type": "code",
   "execution_count": null,
   "metadata": {},
   "outputs": [],
   "source": [
    "from transformers import BertModel\n",
    "\n",
    "model = BertModel.from_pretrained(\"chinese-roberta-wwm-ext\")\n",
    "model.cuda()"
   ]
  },
  {
   "cell_type": "code",
   "execution_count": null,
   "metadata": {},
   "outputs": [],
   "source": [
    "import torch\n",
    "from transformers import BertTokenizer, BertForSequenceClassification\n",
    "\n",
    "# 加载预训练的BERT模型和分词器\n",
    "tokenizer = BertTokenizer.from_pretrained('bert-base-chinese')\n",
    "model = BertForSequenceClassification.from_pretrained('bert-base-chinese', num_labels=2)\n",
    "\n",
    "# 准备训练数据\n",
    "sentences = ['I love apples', 'I dislike onions']\n",
    "labels = [1, 0]  # 正类别: 1, 负类别: 0\n",
    "\n",
    "# 将文本转换为BERT可接受的编码表示\n",
    "inputs = tokenizer(sentences, padding=True, truncation=True, return_tensors='pt')\n",
    "\n",
    "# 前向传播\n",
    "outputs = model(input_ids=inputs['input_ids'], attention_mask=inputs['attention_mask'])\n",
    "logits = outputs[0]  # 获取logits\n",
    "\n",
    "# 计算损失函数\n",
    "loss_fn = torch.nn.CrossEntropyLoss()\n",
    "loss = loss_fn(logits, torch.tensor(labels))\n",
    "\n",
    "# 后向传播和优化\n",
    "optimizer = torch.optim.Adam(model.parameters(), lr=1e-5)\n",
    "optimizer.zero_grad()\n",
    "loss.backward()\n",
    "optimizer.step()\n",
    "\n",
    "# 预测新的词\n",
    "new_sentences = ['I like bananas', 'I hate spiders']\n",
    "new_inputs = tokenizer(new_sentences, padding=True, truncation=True, return_tensors='pt')\n",
    "new_outputs = model(input_ids=new_inputs['input_ids'], attention_mask=new_inputs['attention_mask'])\n",
    "new_logits = new_outputs[0]  # 获取logits\n",
    "predicted_labels = torch.argmax(new_logits, dim=1)\n",
    "\n",
    "print(predicted_labels.tolist())  # 输出预测的标签"
   ]
  },
  {
   "cell_type": "code",
   "execution_count": null,
   "metadata": {},
   "outputs": [],
   "source": [
    "from transformers import BertConfig\n",
    "\n",
    "config = BertConfig.from_pretrained(\"./chinese-roberta-wwm-ext/\")\n",
    "\n",
    "config"
   ]
  },
  {
   "cell_type": "code",
   "execution_count": null,
   "metadata": {},
   "outputs": [],
   "source": [
    "config.hidden_size"
   ]
  }
 ],
 "metadata": {
  "kernelspec": {
   "display_name": "bert-ner",
   "language": "python",
   "name": "python3"
  },
  "language_info": {
   "codemirror_mode": {
    "name": "ipython",
    "version": 3
   },
   "file_extension": ".py",
   "mimetype": "text/x-python",
   "name": "python",
   "nbconvert_exporter": "python",
   "pygments_lexer": "ipython3",
   "version": "3.8.0"
  }
 },
 "nbformat": 4,
 "nbformat_minor": 2
}
